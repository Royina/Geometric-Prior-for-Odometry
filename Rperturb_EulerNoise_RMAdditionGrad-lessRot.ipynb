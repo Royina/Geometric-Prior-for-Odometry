{
 "cells": [
  {
   "cell_type": "code",
   "execution_count": 1,
   "id": "a56ff09c",
   "metadata": {
    "colab": {
     "base_uri": "https://localhost:8080/"
    },
    "id": "a56ff09c",
    "outputId": "ea75bd72-c9cc-49d7-c708-0f3774f178f5"
   },
   "outputs": [
    {
     "name": "stdout",
     "output_type": "stream",
     "text": [
      "cuda\n"
     ]
    }
   ],
   "source": [
    "import numpy as np\n",
    "import os\n",
    "import torch\n",
    "import torch.nn as nn\n",
    "import torch.nn.functional as F\n",
    "import matplotlib.pyplot as plt\n",
    "import imageio.v2 as imageio\n",
    "import time\n",
    "\n",
    "device = torch.device(\"cuda\" if torch.cuda.is_available() else \"cpu\")\n",
    "print(device)"
   ]
  },
  {
   "cell_type": "code",
   "execution_count": 2,
   "id": "d5bd3923-dbc9-4541-976d-c50ad2847697",
   "metadata": {},
   "outputs": [
    {
     "name": "stdout",
     "output_type": "stream",
     "text": [
      "Requirement already satisfied: scipy in /opt/conda/lib/python3.10/site-packages (1.11.4)\n",
      "Requirement already satisfied: numpy<1.28.0,>=1.21.6 in /opt/conda/lib/python3.10/site-packages (from scipy) (1.26.2)\n"
     ]
    }
   ],
   "source": [
    "!pip install scipy"
   ]
  },
  {
   "cell_type": "code",
   "execution_count": 3,
   "id": "09d7d4a4-e10c-4844-b7f9-e1b9158f6062",
   "metadata": {},
   "outputs": [],
   "source": [
    "from scipy.spatial.transform import Rotation"
   ]
  },
  {
   "cell_type": "code",
   "execution_count": 4,
   "id": "dE6mWSWVZGSH",
   "metadata": {
    "id": "dE6mWSWVZGSH"
   },
   "outputs": [],
   "source": [
    "def positional_encoding(x, num_frequencies=6, incl_input=True):\n",
    "\n",
    "\n",
    "    results = []\n",
    "    if incl_input:\n",
    "        results.append(x)\n",
    "\n",
    "    freq = torch.pow(2,torch.arange(num_frequencies)).to(device)\n",
    "    sin_list = torch.sin(torch.pi*freq*x.reshape((-1,1))).to(device)\n",
    "    cos_list  = torch.cos(torch.pi*freq*x.reshape((-1,1))).to(device)\n",
    "    results.append(sin_list.reshape((x.shape[0],-1)))\n",
    "    results.append(cos_list.reshape((x.shape[0],-1)))\n",
    "\n",
    "    return torch.cat(results, dim=-1)\n"
   ]
  },
  {
   "cell_type": "code",
   "execution_count": null,
   "id": "m0HJOx2_1YWN",
   "metadata": {
    "colab": {
     "base_uri": "https://localhost:8080/",
     "height": 433
    },
    "id": "m0HJOx2_1YWN",
    "outputId": "50338234-49b4-4310-bb05-6e0fff78fd0a"
   },
   "outputs": [],
   "source": [
    "\n",
    "data = np.load(\"lego_data.npz\")\n",
    "\n",
    "\n",
    "images = data[\"images\"]\n",
    "\n",
    "\n",
    "height, width = images.shape[1:3]\n",
    "\n",
    "\n",
    "poses = data[\"poses\"]\n",
    "poses = torch.from_numpy(poses).to(device)\n",
    "\n",
    "\n",
    "intrinsics = data[\"intrinsics\"]\n",
    "intrinsics = torch.from_numpy(intrinsics).to(device)\n",
    "\n",
    "\n",
    "test_image, test_pose = images[101], poses[101]\n",
    "test_image = torch.from_numpy(test_image).to(device)\n",
    "\n",
    "\n",
    "images = torch.from_numpy(images[:100, ..., :3]).to(device)\n",
    "\n",
    "plt.imshow(test_image.detach().cpu().numpy())\n",
    "plt.show()"
   ]
  },
  {
   "cell_type": "code",
   "execution_count": 6,
   "id": "3W8xVj8F2spc",
   "metadata": {
    "id": "3W8xVj8F2spc"
   },
   "outputs": [],
   "source": [
    "def get_rays(height, width, intrinsics, w_R_c, w_T_c):\n",
    "\n",
    "    device = intrinsics.device\n",
    "    ray_directions = torch.zeros((height, width, 3), device=device)  \n",
    "    ray_origins = torch.zeros((height, width, 3), device=device)  \n",
    "\n",
    "    coords = torch.stack(torch.meshgrid(torch.arange(height), torch.arange(width), indexing='xy'), -1).reshape((-1,2))\n",
    "    coords = torch.concat((coords, torch.ones(coords.shape[0],1)), -1).to(device)\n",
    "    \n",
    "    rays = w_R_c @ torch.linalg.inv(intrinsics) @ coords.T\n",
    "    \n",
    "    \n",
    "    rays = rays/torch.norm(rays, dim=0)\n",
    "    rays_directions = rays.T.reshape((height,width,3))\n",
    "    rays_origins = torch.broadcast_to(w_T_c.T, ((height, width,3)))\n",
    "    \n",
    "    \n",
    "\n",
    "    return rays_origins, rays_directions"
   ]
  },
  {
   "cell_type": "code",
   "execution_count": 7,
   "id": "aBnHcgzFH3eU",
   "metadata": {
    "id": "aBnHcgzFH3eU"
   },
   "outputs": [],
   "source": [
    "def stratified_sampling(ray_origins, ray_directions, near, far, samples):\n",
    "\n",
    "\n",
    "    i = torch.arange(samples)\n",
    "    depth = near + (i/samples)*(far-near)\n",
    "    depth = depth.to(device)\n",
    "    ray_points = torch.unsqueeze(ray_origins, dim=3) + torch.unsqueeze(ray_directions, dim = 3) * depth\n",
    "    ray_points = ray_points.permute(0,1,3,2)\n",
    "    depth_points = torch.broadcast_to(depth, (ray_origins.shape[0], ray_origins.shape[1], samples))\n",
    "\n",
    "    return ray_points, depth_points"
   ]
  },
  {
   "cell_type": "code",
   "execution_count": 8,
   "id": "x8D1oOmhJG1i",
   "metadata": {
    "id": "x8D1oOmhJG1i"
   },
   "outputs": [],
   "source": [
    "class nerf_model(nn.Module):\n",
    "\n",
    "    def __init__(self, filter_size=256, num_x_frequencies=6, num_d_frequencies=3):\n",
    "        super().__init__()\n",
    "\n",
    "\n",
    "\n",
    "        self.layers = nn.ModuleDict({\n",
    "            'layer_1': nn.Linear(3*2*num_x_frequencies + 3, filter_size),\n",
    "            'layer_2': nn.Linear(filter_size,filter_size),\n",
    "            'layer_3': nn.Linear(filter_size,filter_size),\n",
    "            'layer_4': nn.Linear(filter_size,filter_size),\n",
    "            'layer_5': nn.Linear(filter_size,filter_size),\n",
    "            'layer_6': nn.Linear(filter_size+3*2*num_x_frequencies + 3, filter_size),\n",
    "            'layer_7': nn.Linear(filter_size,filter_size),\n",
    "            'layer_8': nn.Linear(filter_size,filter_size),\n",
    "            'layer_s': nn.Linear(filter_size,1),\n",
    "            'layer_9': nn.Linear(filter_size,filter_size),\n",
    "            'layer_10': nn.Linear(filter_size+3*2*num_d_frequencies + 3,filter_size//2),\n",
    "            'layer_11': nn.Linear(filter_size//2, 3),\n",
    "        })\n",
    "\n",
    "\n",
    "\n",
    "    def forward(self, x, d):\n",
    "\n",
    "        out = self.layers['layer_1'](x)\n",
    "        out = F.relu(out)\n",
    "        out = self.layers['layer_2'](out)\n",
    "        out = F.relu(out)\n",
    "        out = self.layers['layer_3'](out)\n",
    "        out = F.relu(out)\n",
    "        out = self.layers['layer_4'](out)\n",
    "        out = F.relu(out)\n",
    "        out = self.layers['layer_5'](out)\n",
    "        out = F.relu(out)\n",
    "        out = torch.concat([x,out], -1)\n",
    "        out = self.layers['layer_6'](out)\n",
    "        out = F.relu(out)\n",
    "        out = self.layers['layer_7'](out)\n",
    "        out = F.relu(out)\n",
    "        out = self.layers['layer_8'](out)\n",
    "        sigma = self.layers['layer_s'](out)\n",
    "        sigma = F.relu(sigma)\n",
    "        out = self.layers['layer_9'](out)\n",
    "        out = F.relu(out)\n",
    "        out = torch.concat([out, d], -1)\n",
    "        out = self.layers['layer_10'](out)\n",
    "        out = F.relu(out)\n",
    "        out = self.layers['layer_11'](out)\n",
    "        rgb = F.sigmoid(out)\n",
    "\n",
    "\n",
    "        return rgb, sigma"
   ]
  },
  {
   "cell_type": "code",
   "execution_count": 9,
   "id": "tdNYUL_CJLcP",
   "metadata": {
    "id": "tdNYUL_CJLcP"
   },
   "outputs": [],
   "source": [
    "def get_batches(ray_points, ray_directions, num_x_frequencies, num_d_frequencies):\n",
    "\n",
    "    def get_chunks(inputs, chunksize = 2**15):\n",
    "        \n",
    "        return [inputs[i:i + chunksize] for i in range(0, inputs.shape[0], chunksize)]\n",
    "\n",
    "\n",
    "    ray_directions = torch.unsqueeze(ray_directions, dim=2)\n",
    "    ray_directions = torch.broadcast_to(ray_directions, ray_points.shape)\n",
    "    \n",
    "    \n",
    "    embed_ray_dir = positional_encoding(ray_directions.reshape((-1,3)), num_frequencies=num_d_frequencies, incl_input=True)\n",
    "    embed_ray_point = positional_encoding(ray_points.reshape((-1,3)), num_frequencies=num_x_frequencies, incl_input=True)\n",
    "    ray_points_batches = get_chunks(embed_ray_point)\n",
    "    ray_directions_batches = get_chunks(embed_ray_dir)\n",
    "    \n",
    "    \n",
    "    \n",
    "    \n",
    "\n",
    "\n",
    "    return ray_points_batches, ray_directions_batches"
   ]
  },
  {
   "cell_type": "code",
   "execution_count": 10,
   "id": "FH8pa9vOMWhf",
   "metadata": {
    "id": "FH8pa9vOMWhf"
   },
   "outputs": [],
   "source": [
    "def volumetric_rendering(rgb, s, depth_points):\n",
    "\n",
    "\n",
    "\n",
    "    delta = depth_points[...,1:]  - depth_points[...,:-1]\n",
    "    delta = torch.concat([delta, torch.ones((delta.shape[0], delta.shape[1], 1)).to(device)*1e9], -1) \n",
    "    inter_Ti = torch.exp(-s*delta)\n",
    "    Ti = torch.concat([torch.ones((delta.shape[0], delta.shape[1], 1)).to(device),torch.cumprod(inter_Ti, dim=-1)[:,:,:-1]], -1)\n",
    "\n",
    "    c = torch.unsqueeze(Ti, dim=-1) * (1-torch.unsqueeze(inter_Ti, dim=-1)) * rgb\n",
    "    rec_image = torch.sum(c, dim=2)\n",
    "\n",
    "\n",
    "    return rec_image"
   ]
  },
  {
   "cell_type": "code",
   "execution_count": 11,
   "id": "VQ786JH1M-dk",
   "metadata": {
    "id": "VQ786JH1M-dk"
   },
   "outputs": [],
   "source": [
    "def one_forward_pass(height, width, intrinsics, w_R_c, w_T_c, near, far, samples, model, num_x_frequencies, num_d_frequencies):\n",
    "\n",
    "\n",
    "\n",
    "    \n",
    "\n",
    "    \n",
    "    \n",
    "    \n",
    "    \n",
    "    ray_o, ray_d = get_rays(height, width, intrinsics, w_R_c.reshape((3,3)), w_T_c.reshape((3,1)))\n",
    "\n",
    "    \n",
    "    ray_points, depth_points = stratified_sampling(ray_o, ray_d, near, far, samples)\n",
    "\n",
    "    \n",
    "    ray_points_batches, ray_directions_batches = get_batches(ray_points, ray_d, num_x_frequencies, num_d_frequencies)\n",
    "    rgb_list = []\n",
    "    sigma_list =[]\n",
    "    \n",
    "    for batch_i in range(len(ray_points_batches)):\n",
    "      \n",
    "      rgb, sigma = model(ray_points_batches[batch_i], ray_directions_batches[batch_i])\n",
    "      rgb_list.append(rgb)\n",
    "      sigma_list.append(sigma)\n",
    "      \n",
    "    rec_image = volumetric_rendering(torch.concat(rgb_list, 0).reshape((height, width,samples, 3)), torch.concat(sigma_list,0).reshape((height, width, samples)), depth_points)\n",
    " \n",
    "\n",
    "    return rec_image"
   ]
  },
  {
   "cell_type": "code",
   "execution_count": 67,
   "id": "tRImUa2VOGw5",
   "metadata": {
    "id": "tRImUa2VOGw5"
   },
   "outputs": [],
   "source": [
    "num_x_frequencies = 10\n",
    "num_d_frequencies = 4\n",
    "learning_rate  = 5e-4\n",
    "iterations = 10000\n",
    "samples = 64\n",
    "display = 25\n",
    "near = 0.667\n",
    "far = 2\n",
    "\n",
    "model = nerf_model(num_x_frequencies=num_x_frequencies,num_d_frequencies=num_d_frequencies).to(device)\n",
    "\n",
    "def weights_init(m):\n",
    "    if isinstance(m, torch.nn.Linear):\n",
    "        torch.nn.init.xavier_uniform_(m.weight)\n",
    "model.apply(weights_init)\n",
    "\n",
    "optimizer = torch.optim.Adam(model.parameters(), lr=learning_rate)\n",
    "\n",
    "psnrs = []\n",
    "iternums = []\n",
    "\n",
    "t = time.time()\n",
    "t0 = time.time()"
   ]
  },
  {
   "cell_type": "code",
   "execution_count": 68,
   "id": "nyyWjD03vR9a",
   "metadata": {
    "id": "nyyWjD03vR9a"
   },
   "outputs": [],
   "source": [
    "criterion = torch.nn.MSELoss()"
   ]
  },
  {
   "cell_type": "code",
   "execution_count": 69,
   "id": "L6loPDZU3ffM",
   "metadata": {
    "colab": {
     "base_uri": "https://localhost:8080/"
    },
    "id": "L6loPDZU3ffM",
    "outputId": "e87d8646-7eb4-4b1f-9260-b58da474162b"
   },
   "outputs": [
    {
     "data": {
      "text/plain": [
       "torch.Size([106, 4, 4])"
      ]
     },
     "execution_count": 69,
     "metadata": {},
     "output_type": "execute_result"
    }
   ],
   "source": [
    "poses = torch.Tensor(poses)\n",
    "poses.shape"
   ]
  },
  {
   "cell_type": "code",
   "execution_count": 70,
   "id": "bU1vlES74NE9",
   "metadata": {
    "colab": {
     "base_uri": "https://localhost:8080/"
    },
    "id": "bU1vlES74NE9",
    "outputId": "2454ab12-b60b-41a7-c9e5-3eb518e35c30"
   },
   "outputs": [
    {
     "data": {
      "text/plain": [
       "torch.Size([106, 3])"
      ]
     },
     "execution_count": 70,
     "metadata": {},
     "output_type": "execute_result"
    }
   ],
   "source": [
    "w_T_c_all = poses[:,:3,-1]\n",
    "w_T_c_all.shape"
   ]
  },
  {
   "cell_type": "code",
   "execution_count": 71,
   "id": "NNo7aAqM5nYh",
   "metadata": {
    "colab": {
     "base_uri": "https://localhost:8080/"
    },
    "id": "NNo7aAqM5nYh",
    "outputId": "583465b3-c9cc-42d2-8dcf-f9ab5818ca97"
   },
   "outputs": [
    {
     "data": {
      "text/plain": [
       "torch.Size([106, 3, 3])"
      ]
     },
     "execution_count": 71,
     "metadata": {},
     "output_type": "execute_result"
    }
   ],
   "source": [
    "w_R_c_all = poses[:,:3,:3]\n",
    "w_R_c_all.shape"
   ]
  },
  {
   "cell_type": "code",
   "execution_count": 53,
   "id": "ZY5IJVGYBy-e",
   "metadata": {
    "colab": {
     "base_uri": "https://localhost:8080/"
    },
    "id": "ZY5IJVGYBy-e",
    "outputId": "32383904-fddf-4d84-d34b-1f3a24c463dc"
   },
   "outputs": [],
   "source": [
    "\n",
    "\n",
    "\n",
    "\n",
    "\n",
    "\n",
    "\n"
   ]
  },
  {
   "cell_type": "code",
   "execution_count": 54,
   "id": "pAQjXvrbD4gL",
   "metadata": {
    "colab": {
     "base_uri": "https://localhost:8080/"
    },
    "id": "pAQjXvrbD4gL",
    "outputId": "8dd37517-ea0d-4d06-a8bb-1edbacffa27f"
   },
   "outputs": [],
   "source": [
    "\n"
   ]
  },
  {
   "cell_type": "code",
   "execution_count": 56,
   "id": "PgPae6rvERE4",
   "metadata": {
    "colab": {
     "base_uri": "https://localhost:8080/"
    },
    "id": "PgPae6rvERE4",
    "outputId": "5e17be0c-8d99-4b80-e1c8-027ae9104b6b"
   },
   "outputs": [],
   "source": []
  },
  {
   "cell_type": "code",
   "execution_count": 57,
   "id": "SS4IfdW4Ea4z",
   "metadata": {
    "colab": {
     "base_uri": "https://localhost:8080/"
    },
    "id": "SS4IfdW4Ea4z",
    "outputId": "556359cc-404e-4599-ca3f-3dde6b5cc92d"
   },
   "outputs": [
    {
     "data": {
      "text/plain": [
       "torch.Size([3, 3])"
      ]
     },
     "execution_count": 57,
     "metadata": {},
     "output_type": "execute_result"
    }
   ],
   "source": [
    "torch.Tensor([[1,0,0],[0,1,0], [0,0,1]]).shape"
   ]
  },
  {
   "cell_type": "code",
   "execution_count": 58,
   "id": "USBGCL0WJ4fd",
   "metadata": {
    "colab": {
     "base_uri": "https://localhost:8080/"
    },
    "id": "USBGCL0WJ4fd",
    "outputId": "fa75eea3-a5df-4017-988e-1075d1879735"
   },
   "outputs": [],
   "source": [
    "\n",
    "\n",
    "\n"
   ]
  },
  {
   "cell_type": "code",
   "execution_count": 59,
   "id": "tmmD21w6YeT8",
   "metadata": {
    "colab": {
     "base_uri": "https://localhost:8080/"
    },
    "id": "tmmD21w6YeT8",
    "outputId": "de799431-fcb6-4b18-c0c0-35b0d77f7a1c"
   },
   "outputs": [],
   "source": [
    "\n",
    "\n",
    "\n",
    "\n",
    "\n",
    "\n",
    "\n",
    "\n",
    "\n"
   ]
  },
  {
   "cell_type": "code",
   "execution_count": 72,
   "id": "9767dc38-f78f-4679-be9b-fa125756a495",
   "metadata": {},
   "outputs": [
    {
     "data": {
      "text/plain": [
       "(torch.Size([3, 3]),\n",
       " tensor([[-0.9970, -0.0511,  0.0574],\n",
       "         [-0.0720,  0.3622, -0.9293],\n",
       "         [ 0.0267, -0.9307, -0.3648]], device='cuda:0'))"
      ]
     },
     "execution_count": 72,
     "metadata": {},
     "output_type": "execute_result"
    }
   ],
   "source": [
    "angle_noise = 0.1 \n",
    "r =  Rotation.from_euler('xyz', np.random.randn(3)*angle_noise, degrees=False)\n",
    "rot_d = torch.from_numpy(r.as_matrix()).float().to(device)\n",
    "w_R_c_all_perturb = torch.zeros_like(w_R_c_all)\n",
    "for i in range(w_R_c_all_perturb.shape[0]):\n",
    "    w_R_c_all_perturb[i,...] = rot_d @ w_R_c_all[i,...]\n",
    "w_R_c_all_perturb[0].shape, w_R_c_all_perturb[0]"
   ]
  },
  {
   "cell_type": "code",
   "execution_count": 61,
   "id": "e6cc56bc-140e-494e-9e9c-c6dc69d77a32",
   "metadata": {},
   "outputs": [
    {
     "data": {
      "image/png": "[encoded data removed]",
      "text/plain": [
       "<Figure size 1200x800 with 1 Axes>"
      ]
     },
     "metadata": {},
     "output_type": "display_data"
    }
   ],
   "source": [
    "def plot_all_poses(poses, w_R_c_all_perturb, w_T_c_all):\n",
    "\n",
    "\n",
    "    poses = torch.Tensor(poses).to(device)\n",
    "    \n",
    "    w_R_c = poses[:,:3,:3]\n",
    "    w_T_c = poses[:,:3,3]\n",
    "    origins = torch.zeros((poses.shape[0],height, width, 3))\n",
    "    directions = torch.zeros((poses.shape[0],height, width, 3))\n",
    "    for i in range(poses.shape[0]):\n",
    "      ray_o, ray_d = get_rays(height, width, intrinsics, w_R_c[i,...].reshape((3,3)), w_T_c[i,...].reshape((3,1)))\n",
    "      origins[i] = ray_o.to('cpu')\n",
    "      directions[i] = ray_d.to('cpu')\n",
    "      \n",
    "      \n",
    "    \n",
    "\n",
    "\n",
    "    ax = plt.figure(figsize=(12, 8)).add_subplot(projection='3d')\n",
    "    _ = ax.quiver(origins[..., 0].flatten(),\n",
    "                  origins[..., 1].flatten(),\n",
    "                  origins[..., 2].flatten(),\n",
    "                  directions[..., 0].flatten(),\n",
    "                  directions[..., 1].flatten(),\n",
    "                  directions[..., 2].flatten(), length=0.12, normalize=True, color='red')\n",
    "    \n",
    "    w_R_c = w_R_c_all_perturb\n",
    "    w_T_c = w_T_c_all\n",
    "    origins = torch.zeros((poses.shape[0],height, width, 3))\n",
    "    directions = torch.zeros((poses.shape[0],height, width, 3))\n",
    "    for i in range(poses.shape[0]):\n",
    "      ray_o, ray_d = get_rays(height, width, intrinsics, w_R_c[i,...].reshape((3,3)), w_T_c[i,...].reshape((3,1)))\n",
    "      origins[i] = ray_o.to('cpu')\n",
    "      directions[i] = ray_d.to('cpu')\n",
    "      \n",
    "      \n",
    "    \n",
    "\n",
    "\n",
    "    _ = ax.quiver(origins[..., 0].flatten(),\n",
    "                  origins[..., 1].flatten(),\n",
    "                  origins[..., 2].flatten(),\n",
    "                  directions[..., 0].flatten(),\n",
    "                  directions[..., 1].flatten(),\n",
    "                  directions[..., 2].flatten(), length=0.12, normalize=True)\n",
    "  \n",
    "    ax.set_xlabel('X')\n",
    "    ax.set_ylabel('Y')\n",
    "    ax.set_zlabel('z')\n",
    "    plt.show()\n",
    "\n",
    "plot_all_poses(data['poses'], w_R_c_all_perturb, w_T_c_all)"
   ]
  },
  {
   "cell_type": "code",
   "execution_count": 73,
   "id": "SSmU_Uk6Ehkt",
   "metadata": {
    "colab": {
     "base_uri": "https://localhost:8080/"
    },
    "id": "SSmU_Uk6Ehkt",
    "outputId": "88cdc47c-c6a4-4da5-a976-3207b7dfab10"
   },
   "outputs": [
    {
     "data": {
      "text/plain": [
       "torch.Size([106, 3, 3])"
      ]
     },
     "execution_count": 73,
     "metadata": {},
     "output_type": "execute_result"
    }
   ],
   "source": [
    "w_R_c_all_perturb.shape"
   ]
  },
  {
   "cell_type": "code",
   "execution_count": 74,
   "id": "7BHFzKjTk0xy",
   "metadata": {
    "id": "7BHFzKjTk0xy"
   },
   "outputs": [],
   "source": [
    "\n",
    "test_pose_w_R_c = test_pose[:3,:3]\n",
    "test_pose_w_T_c = test_pose[:3, 3]\n",
    "lr_rotation=0.01"
   ]
  },
  {
   "cell_type": "code",
   "execution_count": 75,
   "id": "d9e63401-a4dc-48a1-8dbc-46b842c24381",
   "metadata": {},
   "outputs": [],
   "source": [
    "mse_euler_error_list = []\n",
    "loss_list = []\n",
    "psnr_list = []"
   ]
  },
  {
   "cell_type": "code",
   "execution_count": 76,
   "id": "f470d364-04a5-41a2-9e69-0a9b3ed226de",
   "metadata": {},
   "outputs": [],
   "source": [
    "running_mse_euler_error = 0\n",
    "running_loss = 0\n",
    "running_psnr = 0"
   ]
  },
  {
   "cell_type": "code",
   "execution_count": null,
   "id": "WMjGXxNkPtZx",
   "metadata": {
    "colab": {
     "base_uri": "https://localhost:8080/",
     "height": 1000
    },
    "id": "WMjGXxNkPtZx",
    "outputId": "bf035560-a7e5-46d3-a95a-92779107f8c3",
    "scrolled": true
   },
   "outputs": [],
   "source": [
    "for i in range(iterations+1):\n",
    "\n",
    "    \n",
    "    output_image_idx = np.random.choice(images.shape[0])\n",
    "    output_image = images[output_image_idx,...]\n",
    "\n",
    "    w_R_c = w_R_c_all_perturb[output_image_idx,...]\n",
    "    w_R_c.requires_grad_()\n",
    "    w_T_c = w_T_c_all[output_image_idx,...]\n",
    "    \n",
    "    \n",
    "    optimizer.zero_grad()\n",
    "    rec_image = one_forward_pass(height, width, intrinsics, w_R_c, w_T_c, near, far, samples, model, num_x_frequencies, num_d_frequencies)\n",
    "    w_R_c.retain_grad()\n",
    "    loss = criterion(rec_image, output_image)\n",
    "    loss.backward()\n",
    "    w_R_c_all_perturb[output_image_idx,...] -=  0.1 * w_R_c.grad\n",
    "\n",
    "    optimizer.step()\n",
    "\n",
    "    mse_loss_euler = criterion(w_R_c_all, w_R_c_all_perturb)\n",
    "    running_loss += loss.item()\n",
    "    psnr = 10 * torch.log10((torch.max(output_image)**2)/loss.item())\n",
    "    running_psnr += psnr.item()\n",
    "    running_mse_euler_error += mse_loss_euler.item()\n",
    "\n",
    "    \n",
    "    if i % display == 0:\n",
    "        with torch.no_grad():\n",
    "\n",
    "            \n",
    "\n",
    "            test_rec_image = one_forward_pass(height, width, intrinsics, test_pose_w_R_c, test_pose_w_T_c, near, far, samples, model, num_x_frequencies, num_d_frequencies)\n",
    "\n",
    "\n",
    "            \n",
    "            loss = criterion(test_rec_image, test_image)\n",
    "        psnr = 10 * torch.log10((torch.max(test_image)**2)/loss.item())\n",
    "\n",
    "\n",
    "\n",
    "        print(\"Iteration %d \" % i, \"Loss: %.4f \" % loss.item(), \"PSNR: %.2f \" % psnr.item(), \\\n",
    "                \"Time: %.2f secs per iter, \" % ((time.time() - t) / display), \"%.2f mins in total\" % ((time.time() - t0)/60))\n",
    "        if i !=0:\n",
    "            mse_euler_error_list.append(running_mse_euler_error/display)\n",
    "            loss_list.append(running_loss/display)\n",
    "            psnr_list.append(running_psnr/display)\n",
    "            print('The rotation error as compared to GT Rotation :',running_mse_euler_error/display)\n",
    "            running_mse_euler_error = 0\n",
    "            running_loss = 0\n",
    "            running_psnr = 0\n",
    "        else:\n",
    "             print('The rotation error as compared to GT Rotation :',running_mse_euler_error)\n",
    "        if i%250==0 and i>0 and i<601:\n",
    "            lr_rotation *= 0.1\n",
    "        t = time.time()\n",
    "        psnrs.append(psnr.item())\n",
    "        iternums.append(i)\n",
    "\n",
    "        plt.figure(figsize=(16, 4))\n",
    "        plt.subplot(141)\n",
    "        plt.imshow(test_rec_image.detach().cpu().numpy())\n",
    "        plt.title(f\"Iteration {i}\")\n",
    "        plt.subplot(142)\n",
    "        plt.imshow(test_image.detach().cpu().numpy())\n",
    "        plt.title(\"Target image\")\n",
    "        plt.subplot(143)\n",
    "        plt.plot(iternums, psnrs)\n",
    "        plt.title(\"PSNR\")\n",
    "        plt.show()\n",
    "\n",
    "plt.imsave('test_lego-perturb-EulerNoise_RMAdditionGrad-lessRot-nerf.png',test_rec_image.detach().cpu().numpy())\n",
    "torch.save(model.state_dict(),'model_Rperturb-EulerNoise_RMAdditionGrad-nerf-lessRot.pt')\n",
    "print('Done!')"
   ]
  },
  {
   "cell_type": "code",
   "execution_count": 89,
   "id": "28b443b4-45fa-4525-825c-96663277234f",
   "metadata": {},
   "outputs": [
    {
     "name": "stdout",
     "output_type": "stream",
     "text": [
      "Done!\n"
     ]
    }
   ],
   "source": [
    "plt.imsave('test_lego-perturb-EulerNoise_RMAdditionGrad-lessRot-nerf.png',test_rec_image.detach().cpu().numpy())\n",
    "torch.save(model.state_dict(),'model_Rperturb-EulerNoise_RMAdditionGrad-nerf-lessRot.pt')\n",
    "print('Done!')"
   ]
  },
  {
   "cell_type": "code",
   "execution_count": 103,
   "id": "b19b1617-17b9-4a6d-a408-4eb6abca530b",
   "metadata": {},
   "outputs": [
    {
     "name": "stdout",
     "output_type": "stream",
     "text": [
      "Mean of the determinants: 1.0348346\n",
      "Std of the determinants: 0.03361677\n"
     ]
    }
   ],
   "source": [
    "\n",
    "det_after_train = np.linalg.det(w_R_c_all_perturb.cpu())\n",
    "print('Mean of the determinants:', det_after_train.mean())\n",
    "print('Std of the determinants:', det_after_train.std())"
   ]
  },
  {
   "cell_type": "code",
   "execution_count": 83,
   "id": "3a0e2787-2d59-4612-8c9d-bc67c912dfbc",
   "metadata": {},
   "outputs": [],
   "source": [
    "np.save('perturb-EulerNoise_RMAdditionGrad_loss_list_v1-lessRot.npy', np.array(loss_list)[:3000])\n",
    "np.save('perturb-EulerNoise_RMAdditionGrad_psnr_list_v1-lessRot.npy', np.array(psnr_list)[:3000])\n",
    "np.save('perturb-EulerNoise_RMAdditionGrad_mse_euler_list_v1-lessRot.npy', np.array(mse_euler_error_list)[1:3000])"
   ]
  },
  {
   "cell_type": "code",
   "execution_count": 84,
   "id": "4f265325-118e-4c4b-8f19-7f5790c570e6",
   "metadata": {},
   "outputs": [],
   "source": [
    "loss_list = np.load('perturb-EulerNoise_RMAdditionGrad_loss_list_v1-lessRot.npy')\n",
    "psnr_list = np.load('perturb-EulerNoise_RMAdditionGrad_psnr_list_v1-lessRot.npy')\n",
    "mse_euler_error_list = np.load('perturb-EulerNoise_RMAdditionGrad_mse_euler_list_v1-lessRot.npy')"
   ]
  },
  {
   "cell_type": "code",
   "execution_count": null,
   "id": "342398e9-fc4f-4753-a049-35ea1f1b8189",
   "metadata": {},
   "outputs": [],
   "source": [
    "plt.plot(loss_list)"
   ]
  },
  {
   "cell_type": "code",
   "execution_count": null,
   "id": "e1a069d5-bf49-4483-996e-f6ed37660a7a",
   "metadata": {},
   "outputs": [],
   "source": [
    "plt.plot(psnr_list)"
   ]
  },
  {
   "cell_type": "code",
   "execution_count": 87,
   "id": "fdf2ad2e-e735-44b3-9819-ce0e2e5bb3ae",
   "metadata": {},
   "outputs": [
    {
     "data": {
      "text/plain": [
       "[<matplotlib.lines.Line2D at 0x7ff3f0cd29b0>]"
      ]
     },
     "execution_count": 87,
     "metadata": {},
     "output_type": "execute_result"
    },
    {
     "data": {
      "image/png": "[encoded data removed]",
      "text/plain": [
       "<Figure size 640x480 with 1 Axes>"
      ]
     },
     "metadata": {},
     "output_type": "display_data"
    }
   ],
   "source": [
    "plt.plot(mse_euler_error_list)"
   ]
  },
  {
   "cell_type": "code",
   "execution_count": 90,
   "id": "d419ebb4-4fbc-4d50-a733-db18898d6b30",
   "metadata": {},
   "outputs": [
    {
     "data": {
      "text/plain": [
       "<All keys matched successfully>"
      ]
     },
     "execution_count": 90,
     "metadata": {},
     "output_type": "execute_result"
    }
   ],
   "source": [
    "model = nerf_model(num_x_frequencies=num_x_frequencies,num_d_frequencies=num_d_frequencies).to(device)\n",
    "model.load_state_dict(torch.load('model_Rperturb-EulerNoise_RMAdditionGrad-nerf-lessRot.pt'))"
   ]
  },
  {
   "cell_type": "code",
   "execution_count": 91,
   "id": "922b6e53-14d8-42ed-b1d6-77d676e93046",
   "metadata": {},
   "outputs": [],
   "source": [
    "\n",
    "test_pose_w_R_c = test_pose[:3,:3]\n",
    "test_pose_w_T_c = test_pose[:3, 3]\n",
    "lr_rotation=0.1"
   ]
  },
  {
   "cell_type": "code",
   "execution_count": 95,
   "id": "-uL4XqXRrVSN",
   "metadata": {
    "colab": {
     "base_uri": "https://localhost:8080/"
    },
    "id": "-uL4XqXRrVSN",
    "outputId": "11333398-683d-499a-8bed-46d6e6a46b38"
   },
   "outputs": [
    {
     "data": {
      "text/plain": [
       "(tensor([[ 6.8935e-01, -5.3373e-01,  4.8982e-01],\n",
       "         [-7.2443e-01, -5.0789e-01,  4.6611e-01],\n",
       "         [ 1.4901e-08, -6.7615e-01, -7.3676e-01]], device='cuda:0'),\n",
       " torch.Size([3, 3]),\n",
       " tensor([[ 0.7285, -0.5255,  0.4394],\n",
       "         [-0.6815, -0.4916,  0.5421],\n",
       "         [-0.0689, -0.6944, -0.7163]], device='cuda:0'))"
      ]
     },
     "execution_count": 95,
     "metadata": {},
     "output_type": "execute_result"
    }
   ],
   "source": [
    "\n",
    "\n",
    "\n",
    "\n",
    "\n",
    "\n",
    "\n",
    "\n",
    "\n",
    "\n",
    "\n",
    "\n",
    "\n",
    "\n",
    "\n",
    "\n",
    "\n",
    "\n",
    "\n",
    "\n",
    "test_pose_w_R_c_perturb = rot_d @ test_pose_w_R_c\n",
    "test_pose_w_R_c, test_pose_w_R_c_perturb.shape,test_pose_w_R_c_perturb"
   ]
  },
  {
   "cell_type": "code",
   "execution_count": 96,
   "id": "b7bf49a5-4bc9-4b91-a2f8-5c314cd5e2da",
   "metadata": {},
   "outputs": [],
   "source": [
    "import copy"
   ]
  },
  {
   "cell_type": "code",
   "execution_count": null,
   "id": "qltNaxl4tO-W",
   "metadata": {
    "colab": {
     "base_uri": "https://localhost:8080/"
    },
    "id": "qltNaxl4tO-W",
    "outputId": "6bd51664-0ae7-4ade-ee8b-67825a0a97d1"
   },
   "outputs": [],
   "source": [
    "\n",
    "mse_list = []\n",
    "running_mse = 0\n",
    "for test_itr in range(3000):\n",
    "    test_input = copy.deepcopy(test_pose_w_R_c_perturb)\n",
    "    test_input.requires_grad_()\n",
    "    \n",
    "\n",
    "    rec_image = one_forward_pass(height, width, intrinsics, test_input.to(device), test_pose_w_T_c.to(device), near, far, samples, model, num_x_frequencies, num_d_frequencies)\n",
    "    loss = criterion(rec_image, test_image)\n",
    "    optimizer.zero_grad()\n",
    "    loss.backward()\n",
    "    test_pose_w_R_c_perturb = test_pose_w_R_c_perturb - lr_rotation * test_input.grad.detach()\n",
    "     \n",
    "    mse = criterion(test_pose_w_R_c_perturb.to('cpu'),test_pose_w_R_c.to('cpu')).detach().item()\n",
    "    running_mse += mse\n",
    "    if test_itr%25==0:\n",
    "        print('Test image MSE is:', mse)\n",
    "        mse_list.append(running_mse/25)\n",
    "        running_mse = 0\n",
    "    if test_itr%250==0 and test_itr>0 and test_itr<601:\n",
    "            lr_rotation *= 0.01"
   ]
  },
  {
   "cell_type": "code",
   "execution_count": null,
   "id": "662c19a7-23f1-4f53-94b0-eb95b9ec5ef4",
   "metadata": {},
   "outputs": [],
   "source": [
    "plt.plot(mse_list[1:])"
   ]
  },
  {
   "cell_type": "code",
   "execution_count": null,
   "id": "375b0d14-3cca-416f-b9b0-374a01bde59e",
   "metadata": {},
   "outputs": [],
   "source": [
    "np.save('testpose_perturb-EulerNoise_RMAdditionGrad_mse_euler_list_v1-lessRot.npy', np.array(mse_list))"
   ]
  },
  {
   "cell_type": "code",
   "execution_count": null,
   "id": "6999c9ab-68b6-43c0-b0de-861fb5655cc1",
   "metadata": {},
   "outputs": [],
   "source": [
    "\n",
    "np.linalg.det(test_pose_w_R_c_perturb)"
   ]
  }
 ],
 "metadata": {
  "accelerator": "GPU",
  "colab": {
   "gpuType": "T4",
   "provenance": []
  },
  "kernelspec": {
   "display_name": "Python 3 (ipykernel)",
   "language": "python",
   "name": "python3"
  },
  "language_info": {
   "codemirror_mode": {
    "name": "ipython",
    "version": 3
   },
   "file_extension": ".py",
   "mimetype": "text/x-python",
   "name": "python",
   "nbconvert_exporter": "python",
   "pygments_lexer": "ipython3",
   "version": "3.10.9"
  }
 },
 "nbformat": 4,
 "nbformat_minor": 5
}
